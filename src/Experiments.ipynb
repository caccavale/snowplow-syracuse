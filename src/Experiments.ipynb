{
 "cells": [
  {
   "cell_type": "code",
   "execution_count": 7,
   "metadata": {
    "collapsed": true
   },
   "outputs": [],
   "source": [
    "\n",
    "import pandas as pd\n",
    "import numpy as np\n",
    "import os"
   ]
  },
  {
   "cell_type": "code",
   "execution_count": 8,
   "metadata": {
    "collapsed": true
   },
   "outputs": [],
   "source": [
    "datadir = '../data/plows/v0/raw'\n",
    "file = 'plow20180101.csv'\n",
    "data = os.path.join(datadir, file)"
   ]
  },
  {
   "cell_type": "code",
   "execution_count": 9,
   "metadata": {},
   "outputs": [],
   "source": [
    "df = pd.read_csv(data)\n",
    "df.head()"
   ]
  },
  {
   "cell_type": "code",
   "execution_count": 17,
   "metadata": {},
   "outputs": [
    {
     "data": {
      "text/plain": [
       "array(['    ', '    Ignition On', '    Start Moving', '    Stop Moving',\n",
       "       '    Ignition Off', '    Spreader Off', '    Spreader On',\n",
       "       '    Plow Up', '    Plow Down', '  Start Moving  Plow Down',\n",
       "       '  Spreader Off  Stop Moving', '  Start Moving  Spreader On',\n",
       "       '  Plow Up  Stop Moving', '  Spreader On  Stop Moving',\n",
       "       '  Plow Down  Stop Moving', '  Start Moving  Plow Up',\n",
       "       '  Start Moving  Spreader Off', '    Aux Motor On',\n",
       "       '    Aux Motor off', '  Aux Motor On  Stop Moving',\n",
       "       '  Start Moving  Aux Motor On', '  Aux Motor off  Stop Moving',\n",
       "       '  Start Moving  Aux Motor off'], dtype=object)"
      ]
     },
     "execution_count": 17,
     "metadata": {},
     "output_type": "execute_result"
    }
   ],
   "source": [
    "df['activity_type'].unique()\n"
   ]
  },
  {
   "cell_type": "code",
   "execution_count": null,
   "metadata": {
    "collapsed": true
   },
   "outputs": [],
   "source": []
  }
 ],
 "metadata": {
  "kernelspec": {
   "display_name": "Python 3",
   "language": "python",
   "name": "python3"
  },
  "language_info": {
   "codemirror_mode": {
    "name": "ipython",
    "version": 3
   },
   "file_extension": ".py",
   "mimetype": "text/x-python",
   "name": "python",
   "nbconvert_exporter": "python",
   "pygments_lexer": "ipython3",
   "version": "3.6.4"
  }
 },
 "nbformat": 4,
 "nbformat_minor": 2
}
