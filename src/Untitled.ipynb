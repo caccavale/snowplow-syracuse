{
 "cells": [
  {
   "cell_type": "code",
   "execution_count": 7,
   "metadata": {
    "collapsed": true
   },
   "outputs": [],
   "source": [
    "\n",
    "import pandas as pd\n",
    "import numpy as np\n",
    "import os"
   ]
  },
  {
   "cell_type": "code",
   "execution_count": 8,
   "metadata": {
    "collapsed": true
   },
   "outputs": [],
   "source": [
    "datadir = '../data/plows/v0/raw'\n",
    "file = 'plow20180101.csv'\n",
    "data = os.path.join(datadir, file)"
   ]
  },
  {
   "cell_type": "code",
   "execution_count": 9,
   "metadata": {},
   "outputs": [],
   "source": [
    "df = pd.read_csv(data)"
   ]
  },
  {
   "cell_type": "code",
   "execution_count": 10,
   "metadata": {},
   "outputs": [
    {
     "data": {
      "text/html": [
       "<div>\n",
       "<style scoped>\n",
       "    .dataframe tbody tr th:only-of-type {\n",
       "        vertical-align: middle;\n",
       "    }\n",
       "\n",
       "    .dataframe tbody tr th {\n",
       "        vertical-align: top;\n",
       "    }\n",
       "\n",
       "    .dataframe thead th {\n",
       "        text-align: right;\n",
       "    }\n",
       "</style>\n",
       "<table border=\"1\" class=\"dataframe\">\n",
       "  <thead>\n",
       "    <tr style=\"text-align: right;\">\n",
       "      <th></th>\n",
       "      <th>Unnamed: 0</th>\n",
       "      <th>truck_name</th>\n",
       "      <th>repair_type</th>\n",
       "      <th>date_fixed</th>\n",
       "      <th>strHeading</th>\n",
       "      <th>address</th>\n",
       "      <th>activity_type</th>\n",
       "      <th>longitude</th>\n",
       "      <th>latitude</th>\n",
       "    </tr>\n",
       "  </thead>\n",
       "  <tbody>\n",
       "    <tr>\n",
       "      <th>0</th>\n",
       "      <td>8624</td>\n",
       "      <td>178.0</td>\n",
       "      <td>SNOW &amp; ICE</td>\n",
       "      <td>2018-01-01 05:15:20.000</td>\n",
       "      <td>N</td>\n",
       "      <td>1200 CANAL ST                                 ...</td>\n",
       "      <td></td>\n",
       "      <td>-76.108890</td>\n",
       "      <td>43.055110</td>\n",
       "    </tr>\n",
       "    <tr>\n",
       "      <th>1</th>\n",
       "      <td>8625</td>\n",
       "      <td>178.0</td>\n",
       "      <td>SNOW &amp; ICE</td>\n",
       "      <td>2018-01-01 05:15:22.000</td>\n",
       "      <td>N</td>\n",
       "      <td>1200 CANAL ST                                 ...</td>\n",
       "      <td>Ignition On</td>\n",
       "      <td>-76.108890</td>\n",
       "      <td>43.055110</td>\n",
       "    </tr>\n",
       "    <tr>\n",
       "      <th>2</th>\n",
       "      <td>8648</td>\n",
       "      <td>178.0</td>\n",
       "      <td>SNOW &amp; ICE</td>\n",
       "      <td>2018-01-01 05:16:22.000</td>\n",
       "      <td>N</td>\n",
       "      <td>1200 CANAL ST                                 ...</td>\n",
       "      <td></td>\n",
       "      <td>-76.108890</td>\n",
       "      <td>43.055110</td>\n",
       "    </tr>\n",
       "    <tr>\n",
       "      <th>3</th>\n",
       "      <td>8669</td>\n",
       "      <td>178.0</td>\n",
       "      <td>SNOW &amp; ICE</td>\n",
       "      <td>2018-01-01 05:17:22.000</td>\n",
       "      <td>N</td>\n",
       "      <td>1200 CANAL ST                                 ...</td>\n",
       "      <td></td>\n",
       "      <td>-76.108805</td>\n",
       "      <td>43.055128</td>\n",
       "    </tr>\n",
       "    <tr>\n",
       "      <th>4</th>\n",
       "      <td>8687</td>\n",
       "      <td>178.0</td>\n",
       "      <td>SNOW &amp; ICE</td>\n",
       "      <td>2018-01-01 05:18:22.000</td>\n",
       "      <td>W</td>\n",
       "      <td>1200 CANAL ST                                 ...</td>\n",
       "      <td></td>\n",
       "      <td>-76.108779</td>\n",
       "      <td>43.055191</td>\n",
       "    </tr>\n",
       "  </tbody>\n",
       "</table>\n",
       "</div>"
      ],
      "text/plain": [
       "   Unnamed: 0  truck_name repair_type               date_fixed strHeading  \\\n",
       "0        8624       178.0  SNOW & ICE  2018-01-01 05:15:20.000          N   \n",
       "1        8625       178.0  SNOW & ICE  2018-01-01 05:15:22.000          N   \n",
       "2        8648       178.0  SNOW & ICE  2018-01-01 05:16:22.000          N   \n",
       "3        8669       178.0  SNOW & ICE  2018-01-01 05:17:22.000          N   \n",
       "4        8687       178.0  SNOW & ICE  2018-01-01 05:18:22.000          W   \n",
       "\n",
       "                                             address    activity_type  \\\n",
       "0  1200 CANAL ST                                 ...                    \n",
       "1  1200 CANAL ST                                 ...      Ignition On   \n",
       "2  1200 CANAL ST                                 ...                    \n",
       "3  1200 CANAL ST                                 ...                    \n",
       "4  1200 CANAL ST                                 ...                    \n",
       "\n",
       "   longitude   latitude  \n",
       "0 -76.108890  43.055110  \n",
       "1 -76.108890  43.055110  \n",
       "2 -76.108890  43.055110  \n",
       "3 -76.108805  43.055128  \n",
       "4 -76.108779  43.055191  "
      ]
     },
     "execution_count": 10,
     "metadata": {},
     "output_type": "execute_result"
    }
   ],
   "source": [
    "df.head()\n"
   ]
  },
  {
   "cell_type": "code",
   "execution_count": null,
   "metadata": {
    "collapsed": true
   },
   "outputs": [],
   "source": []
  }
 ],
 "metadata": {
  "kernelspec": {
   "display_name": "Python 3",
   "language": "python",
   "name": "python3"
  },
  "language_info": {
   "codemirror_mode": {
    "name": "ipython",
    "version": 3
   },
   "file_extension": ".py",
   "mimetype": "text/x-python",
   "name": "python",
   "nbconvert_exporter": "python",
   "pygments_lexer": "ipython3",
   "version": "3.6.4"
  }
 },
 "nbformat": 4,
 "nbformat_minor": 2
}
